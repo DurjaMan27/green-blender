{
 "cells": [
  {
   "cell_type": "code",
   "execution_count": null,
   "metadata": {},
   "outputs": [],
   "source": [
    "pip install yesg\n",
    "\n",
    "import yesg"
   ]
  },
  {
   "cell_type": "code",
   "execution_count": null,
   "metadata": {},
   "outputs": [],
   "source": [
    "# All available historic ESG rating for THE BOEING COMPANY\n",
    "print(yesg.get_historic_esg('BA'))\n",
    "\n",
    "https://pypi.org/project/yesg/"
   ]
  }
 ],
 "metadata": {
  "kernelspec": {
   "display_name": "Python 3.10.5 ('opensource': venv)",
   "language": "python",
   "name": "python3"
  },
  "language_info": {
   "name": "python",
   "version": "3.10.5"
  },
  "orig_nbformat": 4,
  "vscode": {
   "interpreter": {
    "hash": "3163559e428e74b9ac00a3a68728de6c6f7914f7b2e4e7d303cffe74ba918afa"
   }
  }
 },
 "nbformat": 4,
 "nbformat_minor": 2
}
